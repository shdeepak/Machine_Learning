{
 "cells": [
  {
   "cell_type": "code",
   "execution_count": 5,
   "id": "a7150c0d-c25d-4356-a4b5-39f1c41db9ec",
   "metadata": {},
   "outputs": [],
   "source": [
    "corpus = \"A bug bounty program is a deal offered by many websites, organizations, and software developers by which individuals can receive recognition and compensation[1] for reporting bugs, especially those pertaining to security vulnerabilities.[2] If no financial reward is offered, it is called a vulnerability disclosure program.[3][4] These programs, which can be considered a form of crowdsourced penetration testing,[5] grant permission for unaffiliated individuals—called bug bounty hunters,[6] white hats or ethical hackers[7]—to find and report vulnerabilities.[3] If the developers discover and patch bugs before the general public is aware of them, cyberattacks that might have exploited are no longer possible.\""
   ]
  },
  {
   "cell_type": "code",
   "execution_count": 29,
   "id": "b175c082-60d6-467e-ae11-d8155a01e631",
   "metadata": {},
   "outputs": [],
   "source": [
    "from nltk.tokenize import word_tokenize, sent_tokenize\n",
    "from nltk.corpus import stopwords"
   ]
  },
  {
   "cell_type": "code",
   "execution_count": 2,
   "id": "99805f19-e658-458e-b183-d060384f9091",
   "metadata": {},
   "outputs": [
    {
     "name": "stderr",
     "output_type": "stream",
     "text": [
      "[nltk_data] Downloading package punkt to /home/deepak/nltk_data...\n",
      "[nltk_data]   Package punkt is already up-to-date!\n"
     ]
    },
    {
     "data": {
      "text/plain": [
       "True"
      ]
     },
     "execution_count": 2,
     "metadata": {},
     "output_type": "execute_result"
    }
   ],
   "source": [
    "import nltk\n",
    "nltk.download('punkt')"
   ]
  },
  {
   "cell_type": "code",
   "execution_count": 9,
   "id": "791321ea-5396-48db-9594-c7197f3242d3",
   "metadata": {},
   "outputs": [],
   "source": [
    "w = word_tokenize(corpus)"
   ]
  },
  {
   "cell_type": "code",
   "execution_count": 10,
   "id": "39f6804d-a05f-45fb-9cb4-7cfb9f424b92",
   "metadata": {},
   "outputs": [],
   "source": [
    "from nltk import pos_tag"
   ]
  },
  {
   "cell_type": "code",
   "execution_count": 12,
   "id": "2e899989-2aa5-4d39-a758-a5129053b4ef",
   "metadata": {},
   "outputs": [
    {
     "name": "stderr",
     "output_type": "stream",
     "text": [
      "[nltk_data] Downloading package averaged_perceptron_tagger to\n",
      "[nltk_data]     /home/deepak/nltk_data...\n",
      "[nltk_data]   Unzipping taggers/averaged_perceptron_tagger.zip.\n"
     ]
    },
    {
     "data": {
      "text/plain": [
       "True"
      ]
     },
     "execution_count": 12,
     "metadata": {},
     "output_type": "execute_result"
    }
   ],
   "source": [
    "import nltk\n",
    "nltk.download('averaged_perceptron_tagger')"
   ]
  },
  {
   "cell_type": "raw",
   "id": "376b657f-ae93-4dc3-8bf4-205f9c3b48ef",
   "metadata": {},
   "source": [
    ">> Part of Speech"
   ]
  },
  {
   "cell_type": "code",
   "execution_count": 13,
   "id": "5c38cbec-852a-4d0f-b7b0-8e34706302dc",
   "metadata": {},
   "outputs": [],
   "source": [
    "p = pos_tag(w)"
   ]
  },
  {
   "cell_type": "code",
   "execution_count": 14,
   "id": "57d4caa4-837e-438f-89f5-b08aff781511",
   "metadata": {},
   "outputs": [
    {
     "data": {
      "text/plain": [
       "[('A', 'DT'),\n",
       " ('bug', 'JJ'),\n",
       " ('bounty', 'NN'),\n",
       " ('program', 'NN'),\n",
       " ('is', 'VBZ'),\n",
       " ('a', 'DT'),\n",
       " ('deal', 'NN'),\n",
       " ('offered', 'VBN'),\n",
       " ('by', 'IN'),\n",
       " ('many', 'JJ'),\n",
       " ('websites', 'NNS'),\n",
       " (',', ','),\n",
       " ('organizations', 'NNS'),\n",
       " (',', ','),\n",
       " ('and', 'CC'),\n",
       " ('software', 'NN'),\n",
       " ('developers', 'NNS'),\n",
       " ('by', 'IN'),\n",
       " ('which', 'WDT'),\n",
       " ('individuals', 'NNS'),\n",
       " ('can', 'MD'),\n",
       " ('receive', 'VB'),\n",
       " ('recognition', 'NN'),\n",
       " ('and', 'CC'),\n",
       " ('compensation', 'NN'),\n",
       " ('[', 'VBP'),\n",
       " ('1', 'CD'),\n",
       " (']', 'NN'),\n",
       " ('for', 'IN'),\n",
       " ('reporting', 'VBG'),\n",
       " ('bugs', 'NNS'),\n",
       " (',', ','),\n",
       " ('especially', 'RB'),\n",
       " ('those', 'DT'),\n",
       " ('pertaining', 'VBG'),\n",
       " ('to', 'TO'),\n",
       " ('security', 'NN'),\n",
       " ('vulnerabilities', 'NNS'),\n",
       " ('.', '.'),\n",
       " ('[', '$'),\n",
       " ('2', 'CD'),\n",
       " (']', 'NN'),\n",
       " ('If', 'IN'),\n",
       " ('no', 'DT'),\n",
       " ('financial', 'JJ'),\n",
       " ('reward', 'NN'),\n",
       " ('is', 'VBZ'),\n",
       " ('offered', 'VBN'),\n",
       " (',', ','),\n",
       " ('it', 'PRP'),\n",
       " ('is', 'VBZ'),\n",
       " ('called', 'VBN'),\n",
       " ('a', 'DT'),\n",
       " ('vulnerability', 'NN'),\n",
       " ('disclosure', 'NN'),\n",
       " ('program', 'NN'),\n",
       " ('.', '.'),\n",
       " ('[', 'CC'),\n",
       " ('3', 'CD'),\n",
       " (']', 'JJ'),\n",
       " ('[', '$'),\n",
       " ('4', 'CD'),\n",
       " (']', 'IN'),\n",
       " ('These', 'DT'),\n",
       " ('programs', 'NNS'),\n",
       " (',', ','),\n",
       " ('which', 'WDT'),\n",
       " ('can', 'MD'),\n",
       " ('be', 'VB'),\n",
       " ('considered', 'VBN'),\n",
       " ('a', 'DT'),\n",
       " ('form', 'NN'),\n",
       " ('of', 'IN'),\n",
       " ('crowdsourced', 'JJ'),\n",
       " ('penetration', 'NN'),\n",
       " ('testing', 'NN'),\n",
       " (',', ','),\n",
       " ('[', 'VBZ'),\n",
       " ('5', 'CD'),\n",
       " (']', 'NN'),\n",
       " ('grant', 'NN'),\n",
       " ('permission', 'NN'),\n",
       " ('for', 'IN'),\n",
       " ('unaffiliated', 'JJ'),\n",
       " ('individuals—called', 'JJ'),\n",
       " ('bug', 'NN'),\n",
       " ('bounty', 'NN'),\n",
       " ('hunters', 'NNS'),\n",
       " (',', ','),\n",
       " ('[', 'VBP'),\n",
       " ('6', 'CD'),\n",
       " (']', 'NNP'),\n",
       " ('white', 'JJ'),\n",
       " ('hats', 'NNS'),\n",
       " ('or', 'CC'),\n",
       " ('ethical', 'JJ'),\n",
       " ('hackers', 'NNS'),\n",
       " ('[', 'VBP'),\n",
       " ('7', 'CD'),\n",
       " (']', 'JJ'),\n",
       " ('—to', 'NN'),\n",
       " ('find', 'NN'),\n",
       " ('and', 'CC'),\n",
       " ('report', 'NN'),\n",
       " ('vulnerabilities', 'NNS'),\n",
       " ('.', '.'),\n",
       " ('[', '$'),\n",
       " ('3', 'CD'),\n",
       " (']', 'NN'),\n",
       " ('If', 'IN'),\n",
       " ('the', 'DT'),\n",
       " ('developers', 'NNS'),\n",
       " ('discover', 'VBP'),\n",
       " ('and', 'CC'),\n",
       " ('patch', 'VBP'),\n",
       " ('bugs', 'NNS'),\n",
       " ('before', 'IN'),\n",
       " ('the', 'DT'),\n",
       " ('general', 'JJ'),\n",
       " ('public', 'NN'),\n",
       " ('is', 'VBZ'),\n",
       " ('aware', 'JJ'),\n",
       " ('of', 'IN'),\n",
       " ('them', 'PRP'),\n",
       " (',', ','),\n",
       " ('cyberattacks', 'NNS'),\n",
       " ('that', 'WDT'),\n",
       " ('might', 'MD'),\n",
       " ('have', 'VB'),\n",
       " ('exploited', 'VBN'),\n",
       " ('are', 'VBP'),\n",
       " ('no', 'RB'),\n",
       " ('longer', 'RBR'),\n",
       " ('possible', 'JJ'),\n",
       " ('.', '.')]"
      ]
     },
     "execution_count": 14,
     "metadata": {},
     "output_type": "execute_result"
    }
   ],
   "source": [
    "p"
   ]
  },
  {
   "cell_type": "raw",
   "id": "24fdd1da-7241-49ea-b402-717bdc8989e2",
   "metadata": {},
   "source": [
    ">> Tokenization"
   ]
  },
  {
   "cell_type": "code",
   "execution_count": 17,
   "id": "2e09127a-bbe6-4e73-962d-8023eb1c53c6",
   "metadata": {},
   "outputs": [],
   "source": [
    "snt = sent_tokenize(corpus)"
   ]
  },
  {
   "cell_type": "code",
   "execution_count": 18,
   "id": "64166b0b-3b80-4058-abbd-ab7c5667c87a",
   "metadata": {},
   "outputs": [
    {
     "data": {
      "text/plain": [
       "['A bug bounty program is a deal offered by many websites, organizations, and software developers by which individuals can receive recognition and compensation[1] for reporting bugs, especially those pertaining to security vulnerabilities.',\n",
       " '[2] If no financial reward is offered, it is called a vulnerability disclosure program.',\n",
       " '[3][4] These programs, which can be considered a form of crowdsourced penetration testing,[5] grant permission for unaffiliated individuals—called bug bounty hunters,[6] white hats or ethical hackers[7]—to find and report vulnerabilities.',\n",
       " '[3] If the developers discover and patch bugs before the general public is aware of them, cyberattacks that might have exploited are no longer possible.']"
      ]
     },
     "execution_count": 18,
     "metadata": {},
     "output_type": "execute_result"
    }
   ],
   "source": [
    "snt"
   ]
  },
  {
   "cell_type": "code",
   "execution_count": 20,
   "id": "e2321082-d9c2-42a3-8d59-c575feb71399",
   "metadata": {},
   "outputs": [
    {
     "name": "stdout",
     "output_type": "stream",
     "text": [
      "A bug bounty program is a deal offered by many websites, organizations, and software developers by which individuals can receive recognition and compensation[1] for reporting bugs, especially those pertaining to security vulnerabilities.\n",
      "\n",
      "[2] If no financial reward is offered, it is called a vulnerability disclosure program.\n",
      "\n",
      "[3][4] These programs, which can be considered a form of crowdsourced penetration testing,[5] grant permission for unaffiliated individuals—called bug bounty hunters,[6] white hats or ethical hackers[7]—to find and report vulnerabilities.\n",
      "\n",
      "[3] If the developers discover and patch bugs before the general public is aware of them, cyberattacks that might have exploited are no longer possible.\n",
      "\n"
     ]
    }
   ],
   "source": [
    "for s in snt:\n",
    "    print(s)\n",
    "    print()"
   ]
  },
  {
   "cell_type": "code",
   "execution_count": 21,
   "id": "7041803d-c3bb-43a3-9c7c-450fe0bb123c",
   "metadata": {},
   "outputs": [
    {
     "data": {
      "text/plain": [
       "['A',\n",
       " 'bug',\n",
       " 'bounty',\n",
       " 'program',\n",
       " 'is',\n",
       " 'a',\n",
       " 'deal',\n",
       " 'offered',\n",
       " 'by',\n",
       " 'many',\n",
       " 'websites',\n",
       " ',',\n",
       " 'organizations',\n",
       " ',',\n",
       " 'and',\n",
       " 'software',\n",
       " 'developers',\n",
       " 'by',\n",
       " 'which',\n",
       " 'individuals',\n",
       " 'can',\n",
       " 'receive',\n",
       " 'recognition',\n",
       " 'and',\n",
       " 'compensation',\n",
       " '[',\n",
       " '1',\n",
       " ']',\n",
       " 'for',\n",
       " 'reporting',\n",
       " 'bugs',\n",
       " ',',\n",
       " 'especially',\n",
       " 'those',\n",
       " 'pertaining',\n",
       " 'to',\n",
       " 'security',\n",
       " 'vulnerabilities',\n",
       " '.',\n",
       " '[',\n",
       " '2',\n",
       " ']',\n",
       " 'If',\n",
       " 'no',\n",
       " 'financial',\n",
       " 'reward',\n",
       " 'is',\n",
       " 'offered',\n",
       " ',',\n",
       " 'it',\n",
       " 'is',\n",
       " 'called',\n",
       " 'a',\n",
       " 'vulnerability',\n",
       " 'disclosure',\n",
       " 'program',\n",
       " '.',\n",
       " '[',\n",
       " '3',\n",
       " ']',\n",
       " '[',\n",
       " '4',\n",
       " ']',\n",
       " 'These',\n",
       " 'programs',\n",
       " ',',\n",
       " 'which',\n",
       " 'can',\n",
       " 'be',\n",
       " 'considered',\n",
       " 'a',\n",
       " 'form',\n",
       " 'of',\n",
       " 'crowdsourced',\n",
       " 'penetration',\n",
       " 'testing',\n",
       " ',',\n",
       " '[',\n",
       " '5',\n",
       " ']',\n",
       " 'grant',\n",
       " 'permission',\n",
       " 'for',\n",
       " 'unaffiliated',\n",
       " 'individuals—called',\n",
       " 'bug',\n",
       " 'bounty',\n",
       " 'hunters',\n",
       " ',',\n",
       " '[',\n",
       " '6',\n",
       " ']',\n",
       " 'white',\n",
       " 'hats',\n",
       " 'or',\n",
       " 'ethical',\n",
       " 'hackers',\n",
       " '[',\n",
       " '7',\n",
       " ']',\n",
       " '—to',\n",
       " 'find',\n",
       " 'and',\n",
       " 'report',\n",
       " 'vulnerabilities',\n",
       " '.',\n",
       " '[',\n",
       " '3',\n",
       " ']',\n",
       " 'If',\n",
       " 'the',\n",
       " 'developers',\n",
       " 'discover',\n",
       " 'and',\n",
       " 'patch',\n",
       " 'bugs',\n",
       " 'before',\n",
       " 'the',\n",
       " 'general',\n",
       " 'public',\n",
       " 'is',\n",
       " 'aware',\n",
       " 'of',\n",
       " 'them',\n",
       " ',',\n",
       " 'cyberattacks',\n",
       " 'that',\n",
       " 'might',\n",
       " 'have',\n",
       " 'exploited',\n",
       " 'are',\n",
       " 'no',\n",
       " 'longer',\n",
       " 'possible',\n",
       " '.']"
      ]
     },
     "execution_count": 21,
     "metadata": {},
     "output_type": "execute_result"
    }
   ],
   "source": [
    "token = word_tokenize(corpus)\n",
    "token"
   ]
  },
  {
   "cell_type": "raw",
   "id": "41879e89-51fb-4136-9833-4001a8ec522a",
   "metadata": {},
   "source": [
    ">> Stop Words Removal"
   ]
  },
  {
   "cell_type": "code",
   "execution_count": 30,
   "id": "bc41357d-0b7d-4075-9573-5e21e440b64c",
   "metadata": {},
   "outputs": [
    {
     "name": "stderr",
     "output_type": "stream",
     "text": [
      "[nltk_data] Downloading package stopwords to /home/deepak/nltk_data...\n",
      "[nltk_data]   Unzipping corpora/stopwords.zip.\n"
     ]
    },
    {
     "data": {
      "text/plain": [
       "True"
      ]
     },
     "execution_count": 30,
     "metadata": {},
     "output_type": "execute_result"
    }
   ],
   "source": [
    "import nltk\n",
    "nltk.download('stopwords')"
   ]
  },
  {
   "cell_type": "code",
   "execution_count": 45,
   "id": "b0f8a005-6ee2-4bff-9326-8922242c5260",
   "metadata": {},
   "outputs": [],
   "source": [
    "corpus1 = word_tokenize(corpus)"
   ]
  },
  {
   "cell_type": "code",
   "execution_count": 44,
   "id": "adef0346-5e4f-41c2-926a-ea5c0dbcb3cd",
   "metadata": {},
   "outputs": [],
   "source": [
    "from nltk.corpus import stopwords\n",
    "from string import punctuation"
   ]
  },
  {
   "cell_type": "code",
   "execution_count": 31,
   "id": "6f79ec4d-d992-49ac-bc51-ed6ecd27dbce",
   "metadata": {},
   "outputs": [],
   "source": [
    "stp = stopwords.words(\"english\")"
   ]
  },
  {
   "cell_type": "code",
   "execution_count": 32,
   "id": "af14b094-eb4f-4a42-acea-27cb6d24189a",
   "metadata": {},
   "outputs": [
    {
     "data": {
      "text/plain": [
       "['a',\n",
       " 'about',\n",
       " 'above',\n",
       " 'after',\n",
       " 'again',\n",
       " 'against',\n",
       " 'ain',\n",
       " 'all',\n",
       " 'am',\n",
       " 'an',\n",
       " 'and',\n",
       " 'any',\n",
       " 'are',\n",
       " 'aren',\n",
       " \"aren't\",\n",
       " 'as',\n",
       " 'at',\n",
       " 'be',\n",
       " 'because',\n",
       " 'been',\n",
       " 'before',\n",
       " 'being',\n",
       " 'below',\n",
       " 'between',\n",
       " 'both',\n",
       " 'but',\n",
       " 'by',\n",
       " 'can',\n",
       " 'couldn',\n",
       " \"couldn't\",\n",
       " 'd',\n",
       " 'did',\n",
       " 'didn',\n",
       " \"didn't\",\n",
       " 'do',\n",
       " 'does',\n",
       " 'doesn',\n",
       " \"doesn't\",\n",
       " 'doing',\n",
       " 'don',\n",
       " \"don't\",\n",
       " 'down',\n",
       " 'during',\n",
       " 'each',\n",
       " 'few',\n",
       " 'for',\n",
       " 'from',\n",
       " 'further',\n",
       " 'had',\n",
       " 'hadn',\n",
       " \"hadn't\",\n",
       " 'has',\n",
       " 'hasn',\n",
       " \"hasn't\",\n",
       " 'have',\n",
       " 'haven',\n",
       " \"haven't\",\n",
       " 'having',\n",
       " 'he',\n",
       " \"he'd\",\n",
       " \"he'll\",\n",
       " 'her',\n",
       " 'here',\n",
       " 'hers',\n",
       " 'herself',\n",
       " \"he's\",\n",
       " 'him',\n",
       " 'himself',\n",
       " 'his',\n",
       " 'how',\n",
       " 'i',\n",
       " \"i'd\",\n",
       " 'if',\n",
       " \"i'll\",\n",
       " \"i'm\",\n",
       " 'in',\n",
       " 'into',\n",
       " 'is',\n",
       " 'isn',\n",
       " \"isn't\",\n",
       " 'it',\n",
       " \"it'd\",\n",
       " \"it'll\",\n",
       " \"it's\",\n",
       " 'its',\n",
       " 'itself',\n",
       " \"i've\",\n",
       " 'just',\n",
       " 'll',\n",
       " 'm',\n",
       " 'ma',\n",
       " 'me',\n",
       " 'mightn',\n",
       " \"mightn't\",\n",
       " 'more',\n",
       " 'most',\n",
       " 'mustn',\n",
       " \"mustn't\",\n",
       " 'my',\n",
       " 'myself',\n",
       " 'needn',\n",
       " \"needn't\",\n",
       " 'no',\n",
       " 'nor',\n",
       " 'not',\n",
       " 'now',\n",
       " 'o',\n",
       " 'of',\n",
       " 'off',\n",
       " 'on',\n",
       " 'once',\n",
       " 'only',\n",
       " 'or',\n",
       " 'other',\n",
       " 'our',\n",
       " 'ours',\n",
       " 'ourselves',\n",
       " 'out',\n",
       " 'over',\n",
       " 'own',\n",
       " 're',\n",
       " 's',\n",
       " 'same',\n",
       " 'shan',\n",
       " \"shan't\",\n",
       " 'she',\n",
       " \"she'd\",\n",
       " \"she'll\",\n",
       " \"she's\",\n",
       " 'should',\n",
       " 'shouldn',\n",
       " \"shouldn't\",\n",
       " \"should've\",\n",
       " 'so',\n",
       " 'some',\n",
       " 'such',\n",
       " 't',\n",
       " 'than',\n",
       " 'that',\n",
       " \"that'll\",\n",
       " 'the',\n",
       " 'their',\n",
       " 'theirs',\n",
       " 'them',\n",
       " 'themselves',\n",
       " 'then',\n",
       " 'there',\n",
       " 'these',\n",
       " 'they',\n",
       " \"they'd\",\n",
       " \"they'll\",\n",
       " \"they're\",\n",
       " \"they've\",\n",
       " 'this',\n",
       " 'those',\n",
       " 'through',\n",
       " 'to',\n",
       " 'too',\n",
       " 'under',\n",
       " 'until',\n",
       " 'up',\n",
       " 've',\n",
       " 'very',\n",
       " 'was',\n",
       " 'wasn',\n",
       " \"wasn't\",\n",
       " 'we',\n",
       " \"we'd\",\n",
       " \"we'll\",\n",
       " \"we're\",\n",
       " 'were',\n",
       " 'weren',\n",
       " \"weren't\",\n",
       " \"we've\",\n",
       " 'what',\n",
       " 'when',\n",
       " 'where',\n",
       " 'which',\n",
       " 'while',\n",
       " 'who',\n",
       " 'whom',\n",
       " 'why',\n",
       " 'will',\n",
       " 'with',\n",
       " 'won',\n",
       " \"won't\",\n",
       " 'wouldn',\n",
       " \"wouldn't\",\n",
       " 'y',\n",
       " 'you',\n",
       " \"you'd\",\n",
       " \"you'll\",\n",
       " 'your',\n",
       " \"you're\",\n",
       " 'yours',\n",
       " 'yourself',\n",
       " 'yourselves',\n",
       " \"you've\"]"
      ]
     },
     "execution_count": 32,
     "metadata": {},
     "output_type": "execute_result"
    }
   ],
   "source": [
    "stp"
   ]
  },
  {
   "cell_type": "code",
   "execution_count": 37,
   "id": "6cc2a095-1d80-4aed-a655-bc74099011b3",
   "metadata": {},
   "outputs": [],
   "source": [
    "from string import punctuation"
   ]
  },
  {
   "cell_type": "code",
   "execution_count": 38,
   "id": "c15a1147-cb75-4b3f-8391-d8b3dc07a110",
   "metadata": {},
   "outputs": [
    {
     "data": {
      "text/plain": [
       "'!\"#$%&\\'()*+,-./:;<=>?@[\\\\]^_`{|}~'"
      ]
     },
     "execution_count": 38,
     "metadata": {},
     "output_type": "execute_result"
    }
   ],
   "source": [
    "punctuation"
   ]
  },
  {
   "cell_type": "code",
   "execution_count": 47,
   "id": "4c1a3830-eda3-44e6-8bbc-81c822d3715f",
   "metadata": {},
   "outputs": [],
   "source": [
    "stopwords = list(punctuation) + stp"
   ]
  },
  {
   "cell_type": "code",
   "execution_count": 48,
   "id": "3ca584b0-66eb-4fc5-b0db-2e0097ec8e8c",
   "metadata": {},
   "outputs": [
    {
     "name": "stdout",
     "output_type": "stream",
     "text": [
      "A\n",
      "bug\n",
      "bounty\n",
      "program\n",
      "deal\n",
      "offered\n",
      "many\n",
      "websites\n",
      "organizations\n",
      "software\n",
      "developers\n",
      "individuals\n",
      "receive\n",
      "recognition\n",
      "compensation\n",
      "1\n",
      "reporting\n",
      "bugs\n",
      "especially\n",
      "pertaining\n",
      "security\n",
      "vulnerabilities\n",
      "2\n",
      "If\n",
      "financial\n",
      "reward\n",
      "offered\n",
      "called\n",
      "vulnerability\n",
      "disclosure\n",
      "program\n",
      "3\n",
      "4\n",
      "These\n",
      "programs\n",
      "considered\n",
      "form\n",
      "crowdsourced\n",
      "penetration\n",
      "testing\n",
      "5\n",
      "grant\n",
      "permission\n",
      "unaffiliated\n",
      "individuals—called\n",
      "bug\n",
      "bounty\n",
      "hunters\n",
      "6\n",
      "white\n",
      "hats\n",
      "ethical\n",
      "hackers\n",
      "7\n",
      "—to\n",
      "find\n",
      "report\n",
      "vulnerabilities\n",
      "3\n",
      "If\n",
      "developers\n",
      "discover\n",
      "patch\n",
      "bugs\n",
      "general\n",
      "public\n",
      "aware\n",
      "cyberattacks\n",
      "might\n",
      "exploited\n",
      "longer\n",
      "possible\n"
     ]
    }
   ],
   "source": [
    "for i in corpus1:\n",
    "    if i not in stopwords:\n",
    "        print(i)"
   ]
  },
  {
   "cell_type": "raw",
   "id": "1dc0bab2-d52f-4cf2-9911-a51556d9c1fa",
   "metadata": {},
   "source": [
    ">> Stemming"
   ]
  },
  {
   "cell_type": "code",
   "execution_count": 49,
   "id": "dfa2ab12-7baa-4844-a301-600ce0871eb3",
   "metadata": {},
   "outputs": [],
   "source": [
    "from nltk.stem import LancasterStemmer, RegexpStemmer, PorterStemmer, SnowballStemmer"
   ]
  },
  {
   "cell_type": "code",
   "execution_count": 54,
   "id": "9453c81e-4c63-407a-b7df-6b0f22bcc978",
   "metadata": {},
   "outputs": [],
   "source": [
    "lan = LancasterStemmer()\n",
    "reg = RegexpStemmer('ing')\n",
    "port = PorterStemmer()\n",
    "snow = SnowballStemmer('english')"
   ]
  },
  {
   "cell_type": "code",
   "execution_count": 52,
   "id": "d053adf9-ff5b-4e51-9e70-55ee37dc3bb5",
   "metadata": {},
   "outputs": [
    {
     "data": {
      "text/plain": [
       "'bring'"
      ]
     },
     "execution_count": 52,
     "metadata": {},
     "output_type": "execute_result"
    }
   ],
   "source": [
    "lan.stem(\"bringing\")"
   ]
  },
  {
   "cell_type": "code",
   "execution_count": 53,
   "id": "f2802286-377a-4d1f-9d15-dd80a6f656a5",
   "metadata": {},
   "outputs": [
    {
     "data": {
      "text/plain": [
       "'br'"
      ]
     },
     "execution_count": 53,
     "metadata": {},
     "output_type": "execute_result"
    }
   ],
   "source": [
    "reg.stem(\"bringing\")"
   ]
  },
  {
   "cell_type": "code",
   "execution_count": 55,
   "id": "ef36a6fc-b69e-4466-9733-66100b6db5ac",
   "metadata": {},
   "outputs": [
    {
     "data": {
      "text/plain": [
       "'bring'"
      ]
     },
     "execution_count": 55,
     "metadata": {},
     "output_type": "execute_result"
    }
   ],
   "source": [
    "port.stem(\"bringing\")"
   ]
  },
  {
   "cell_type": "code",
   "execution_count": 56,
   "id": "b5272f1e-293c-4dc9-815c-919a6b3147d1",
   "metadata": {},
   "outputs": [
    {
     "data": {
      "text/plain": [
       "'bring'"
      ]
     },
     "execution_count": 56,
     "metadata": {},
     "output_type": "execute_result"
    }
   ],
   "source": [
    "snow.stem(\"bringing\")"
   ]
  },
  {
   "cell_type": "raw",
   "id": "78b1621c-9499-4149-9c76-427dedbd73f7",
   "metadata": {},
   "source": [
    ">> Lemmatization"
   ]
  },
  {
   "cell_type": "code",
   "execution_count": 6,
   "id": "e4513a5a-5f2c-42b7-bf2a-4015c0535664",
   "metadata": {},
   "outputs": [
    {
     "name": "stdout",
     "output_type": "stream",
     "text": [
      "Collecting nltk\n",
      "  Downloading nltk-3.9.1-py3-none-any.whl (1.5 MB)\n",
      "\u001b[2K     \u001b[38;2;114;156;31m━━━━━━━━━━━━━━━━━━━━━━━━━━━━━━━━━━━━━━━━\u001b[0m \u001b[32m1.5/1.5 MB\u001b[0m \u001b[31m3.5 MB/s\u001b[0m eta \u001b[36m0:00:00\u001b[0mm eta \u001b[36m0:00:01\u001b[0m[36m0:00:01\u001b[0m\n",
      "\u001b[?25hCollecting click\n",
      "  Using cached click-8.2.1-py3-none-any.whl (102 kB)\n",
      "Requirement already satisfied: joblib in /home/deepak/my-jupyter-env/lib/python3.11/site-packages (from nltk) (1.5.1)\n",
      "Collecting regex>=2021.8.3\n",
      "  Downloading regex-2024.11.6-cp311-cp311-manylinux_2_17_x86_64.manylinux2014_x86_64.whl (792 kB)\n",
      "\u001b[2K     \u001b[38;2;114;156;31m━━━━━━━━━━━━━━━━━━━━━━━━━━━━━━━━━━━━━━━\u001b[0m \u001b[32m792.7/792.7 kB\u001b[0m \u001b[31m2.8 MB/s\u001b[0m eta \u001b[36m0:00:00\u001b[0mm eta \u001b[36m0:00:01\u001b[0m[36m0:00:01\u001b[0m\n",
      "\u001b[?25hCollecting tqdm\n",
      "  Using cached tqdm-4.67.1-py3-none-any.whl (78 kB)\n",
      "Installing collected packages: tqdm, regex, click, nltk\n",
      "Successfully installed click-8.2.1 nltk-3.9.1 regex-2024.11.6 tqdm-4.67.1\n"
     ]
    }
   ],
   "source": [
    "!pip install nltk"
   ]
  },
  {
   "cell_type": "code",
   "execution_count": 10,
   "id": "0d1cc418-7c94-42e3-85b3-ee39330188ac",
   "metadata": {},
   "outputs": [],
   "source": [
    "from nltk.stem import WordNetLemmatizer"
   ]
  },
  {
   "cell_type": "code",
   "execution_count": 11,
   "id": "2603fc6d-28b9-4836-ac2e-638c32933fbb",
   "metadata": {},
   "outputs": [],
   "source": [
    "wlem = WordNetLemmatizer()"
   ]
  },
  {
   "cell_type": "code",
   "execution_count": 14,
   "id": "018da74d-6cc4-494c-b866-849b2cfc3247",
   "metadata": {},
   "outputs": [
    {
     "name": "stderr",
     "output_type": "stream",
     "text": [
      "[nltk_data] Downloading package wordnet to /home/deepak/nltk_data...\n"
     ]
    },
    {
     "data": {
      "text/plain": [
       "True"
      ]
     },
     "execution_count": 14,
     "metadata": {},
     "output_type": "execute_result"
    }
   ],
   "source": [
    "import nltk\n",
    "nltk.download('wordnet')"
   ]
  },
  {
   "cell_type": "code",
   "execution_count": 22,
   "id": "87629ad9-5775-472b-ad04-5a84f15a2997",
   "metadata": {},
   "outputs": [
    {
     "data": {
      "text/plain": [
       "'mouse'"
      ]
     },
     "execution_count": 22,
     "metadata": {},
     "output_type": "execute_result"
    }
   ],
   "source": [
    "wlem.lemmatize(\"mice\")"
   ]
  },
  {
   "cell_type": "raw",
   "id": "5800d38f-e0a8-43de-ac4e-5d56b0522364",
   "metadata": {},
   "source": [
    ">> N-Grams"
   ]
  },
  {
   "cell_type": "code",
   "execution_count": 23,
   "id": "8b89ce4d-ccd2-49f5-b38d-e162a23be6bf",
   "metadata": {},
   "outputs": [],
   "source": [
    "from nltk.tokenize import word_tokenize"
   ]
  },
  {
   "cell_type": "code",
   "execution_count": 29,
   "id": "d2897866-b000-4aba-8acd-8851c2cc37d3",
   "metadata": {},
   "outputs": [],
   "source": [
    "w = word_tokenize(corpus)"
   ]
  },
  {
   "cell_type": "code",
   "execution_count": 30,
   "id": "dde52e20-83ad-4d4c-ae15-e6057d8c2a8c",
   "metadata": {},
   "outputs": [
    {
     "data": {
      "text/plain": [
       "['A',\n",
       " 'bug',\n",
       " 'bounty',\n",
       " 'program',\n",
       " 'is',\n",
       " 'a',\n",
       " 'deal',\n",
       " 'offered',\n",
       " 'by',\n",
       " 'many',\n",
       " 'websites',\n",
       " ',',\n",
       " 'organizations',\n",
       " ',',\n",
       " 'and',\n",
       " 'software',\n",
       " 'developers',\n",
       " 'by',\n",
       " 'which',\n",
       " 'individuals',\n",
       " 'can',\n",
       " 'receive',\n",
       " 'recognition',\n",
       " 'and',\n",
       " 'compensation',\n",
       " '[',\n",
       " '1',\n",
       " ']',\n",
       " 'for',\n",
       " 'reporting',\n",
       " 'bugs',\n",
       " ',',\n",
       " 'especially',\n",
       " 'those',\n",
       " 'pertaining',\n",
       " 'to',\n",
       " 'security',\n",
       " 'vulnerabilities',\n",
       " '.',\n",
       " '[',\n",
       " '2',\n",
       " ']',\n",
       " 'If',\n",
       " 'no',\n",
       " 'financial',\n",
       " 'reward',\n",
       " 'is',\n",
       " 'offered',\n",
       " ',',\n",
       " 'it',\n",
       " 'is',\n",
       " 'called',\n",
       " 'a',\n",
       " 'vulnerability',\n",
       " 'disclosure',\n",
       " 'program',\n",
       " '.',\n",
       " '[',\n",
       " '3',\n",
       " ']',\n",
       " '[',\n",
       " '4',\n",
       " ']',\n",
       " 'These',\n",
       " 'programs',\n",
       " ',',\n",
       " 'which',\n",
       " 'can',\n",
       " 'be',\n",
       " 'considered',\n",
       " 'a',\n",
       " 'form',\n",
       " 'of',\n",
       " 'crowdsourced',\n",
       " 'penetration',\n",
       " 'testing',\n",
       " ',',\n",
       " '[',\n",
       " '5',\n",
       " ']',\n",
       " 'grant',\n",
       " 'permission',\n",
       " 'for',\n",
       " 'unaffiliated',\n",
       " 'individuals—called',\n",
       " 'bug',\n",
       " 'bounty',\n",
       " 'hunters',\n",
       " ',',\n",
       " '[',\n",
       " '6',\n",
       " ']',\n",
       " 'white',\n",
       " 'hats',\n",
       " 'or',\n",
       " 'ethical',\n",
       " 'hackers',\n",
       " '[',\n",
       " '7',\n",
       " ']',\n",
       " '—to',\n",
       " 'find',\n",
       " 'and',\n",
       " 'report',\n",
       " 'vulnerabilities',\n",
       " '.',\n",
       " '[',\n",
       " '3',\n",
       " ']',\n",
       " 'If',\n",
       " 'the',\n",
       " 'developers',\n",
       " 'discover',\n",
       " 'and',\n",
       " 'patch',\n",
       " 'bugs',\n",
       " 'before',\n",
       " 'the',\n",
       " 'general',\n",
       " 'public',\n",
       " 'is',\n",
       " 'aware',\n",
       " 'of',\n",
       " 'them',\n",
       " ',',\n",
       " 'cyberattacks',\n",
       " 'that',\n",
       " 'might',\n",
       " 'have',\n",
       " 'exploited',\n",
       " 'are',\n",
       " 'no',\n",
       " 'longer',\n",
       " 'possible',\n",
       " '.']"
      ]
     },
     "execution_count": 30,
     "metadata": {},
     "output_type": "execute_result"
    }
   ],
   "source": [
    "w"
   ]
  },
  {
   "cell_type": "code",
   "execution_count": 31,
   "id": "4bb1c250-2059-413b-ac0b-8e748fa4eea1",
   "metadata": {},
   "outputs": [],
   "source": [
    "from nltk.collocations import BigramCollocationFinder, TrigramCollocationFinder, ngrams"
   ]
  },
  {
   "cell_type": "code",
   "execution_count": 39,
   "id": "78067755-7b96-4946-b6fb-6ebc30de304f",
   "metadata": {},
   "outputs": [],
   "source": [
    "bi = BigramCollocationFinder.from_words(corpus)\n",
    "tri = TrigramCollocationFinder.from_words(corpus)\n",
    "n = ngrams(w,3)"
   ]
  },
  {
   "cell_type": "code",
   "execution_count": 35,
   "id": "6b6c6ea4-a87c-4002-b5a5-92f16463fa12",
   "metadata": {},
   "outputs": [
    {
     "data": {
      "text/plain": [
       "FreqDist({('e', 'r'): 16, ('r', 'e'): 13, ('d', ' '): 13, ('e', ' '): 13, (' ', 'b'): 10, ('r', 'a'): 10, ('s', ' '): 10, ('a', 'n'): 10, (' ', 'p'): 9, (' ', 'a'): 9, ...})"
      ]
     },
     "execution_count": 35,
     "metadata": {},
     "output_type": "execute_result"
    }
   ],
   "source": [
    "bi.ngram_fd"
   ]
  },
  {
   "cell_type": "code",
   "execution_count": 36,
   "id": "8767a9f7-883e-4be0-90ba-e8cc9cdb0288",
   "metadata": {},
   "outputs": [
    {
     "data": {
      "text/plain": [
       "FreqDist({('e', 'd', ' '): 7, ('i', 'o', 'n'): 5, ('n', 'd', ' '): 5, ('r', 'e', ' '): 5, (' ', 'r', 'e'): 5, (' ', 't', 'h'): 5, ('e', 'r', 'a'): 5, (' ', 'b', 'u'): 4, ('b', 'u', 'g'): 4, ('t', 'y', ' '): 4, ...})"
      ]
     },
     "execution_count": 36,
     "metadata": {},
     "output_type": "execute_result"
    }
   ],
   "source": [
    "tri.ngram_fd"
   ]
  },
  {
   "cell_type": "code",
   "execution_count": 40,
   "id": "46312a68-8991-47e7-8139-0a017126e036",
   "metadata": {},
   "outputs": [
    {
     "name": "stdout",
     "output_type": "stream",
     "text": [
      "('A', 'bug', 'bounty')\n",
      "('bug', 'bounty', 'program')\n",
      "('bounty', 'program', 'is')\n",
      "('program', 'is', 'a')\n",
      "('is', 'a', 'deal')\n",
      "('a', 'deal', 'offered')\n",
      "('deal', 'offered', 'by')\n",
      "('offered', 'by', 'many')\n",
      "('by', 'many', 'websites')\n",
      "('many', 'websites', ',')\n",
      "('websites', ',', 'organizations')\n",
      "(',', 'organizations', ',')\n",
      "('organizations', ',', 'and')\n",
      "(',', 'and', 'software')\n",
      "('and', 'software', 'developers')\n",
      "('software', 'developers', 'by')\n",
      "('developers', 'by', 'which')\n",
      "('by', 'which', 'individuals')\n",
      "('which', 'individuals', 'can')\n",
      "('individuals', 'can', 'receive')\n",
      "('can', 'receive', 'recognition')\n",
      "('receive', 'recognition', 'and')\n",
      "('recognition', 'and', 'compensation')\n",
      "('and', 'compensation', '[')\n",
      "('compensation', '[', '1')\n",
      "('[', '1', ']')\n",
      "('1', ']', 'for')\n",
      "(']', 'for', 'reporting')\n",
      "('for', 'reporting', 'bugs')\n",
      "('reporting', 'bugs', ',')\n",
      "('bugs', ',', 'especially')\n",
      "(',', 'especially', 'those')\n",
      "('especially', 'those', 'pertaining')\n",
      "('those', 'pertaining', 'to')\n",
      "('pertaining', 'to', 'security')\n",
      "('to', 'security', 'vulnerabilities')\n",
      "('security', 'vulnerabilities', '.')\n",
      "('vulnerabilities', '.', '[')\n",
      "('.', '[', '2')\n",
      "('[', '2', ']')\n",
      "('2', ']', 'If')\n",
      "(']', 'If', 'no')\n",
      "('If', 'no', 'financial')\n",
      "('no', 'financial', 'reward')\n",
      "('financial', 'reward', 'is')\n",
      "('reward', 'is', 'offered')\n",
      "('is', 'offered', ',')\n",
      "('offered', ',', 'it')\n",
      "(',', 'it', 'is')\n",
      "('it', 'is', 'called')\n",
      "('is', 'called', 'a')\n",
      "('called', 'a', 'vulnerability')\n",
      "('a', 'vulnerability', 'disclosure')\n",
      "('vulnerability', 'disclosure', 'program')\n",
      "('disclosure', 'program', '.')\n",
      "('program', '.', '[')\n",
      "('.', '[', '3')\n",
      "('[', '3', ']')\n",
      "('3', ']', '[')\n",
      "(']', '[', '4')\n",
      "('[', '4', ']')\n",
      "('4', ']', 'These')\n",
      "(']', 'These', 'programs')\n",
      "('These', 'programs', ',')\n",
      "('programs', ',', 'which')\n",
      "(',', 'which', 'can')\n",
      "('which', 'can', 'be')\n",
      "('can', 'be', 'considered')\n",
      "('be', 'considered', 'a')\n",
      "('considered', 'a', 'form')\n",
      "('a', 'form', 'of')\n",
      "('form', 'of', 'crowdsourced')\n",
      "('of', 'crowdsourced', 'penetration')\n",
      "('crowdsourced', 'penetration', 'testing')\n",
      "('penetration', 'testing', ',')\n",
      "('testing', ',', '[')\n",
      "(',', '[', '5')\n",
      "('[', '5', ']')\n",
      "('5', ']', 'grant')\n",
      "(']', 'grant', 'permission')\n",
      "('grant', 'permission', 'for')\n",
      "('permission', 'for', 'unaffiliated')\n",
      "('for', 'unaffiliated', 'individuals—called')\n",
      "('unaffiliated', 'individuals—called', 'bug')\n",
      "('individuals—called', 'bug', 'bounty')\n",
      "('bug', 'bounty', 'hunters')\n",
      "('bounty', 'hunters', ',')\n",
      "('hunters', ',', '[')\n",
      "(',', '[', '6')\n",
      "('[', '6', ']')\n",
      "('6', ']', 'white')\n",
      "(']', 'white', 'hats')\n",
      "('white', 'hats', 'or')\n",
      "('hats', 'or', 'ethical')\n",
      "('or', 'ethical', 'hackers')\n",
      "('ethical', 'hackers', '[')\n",
      "('hackers', '[', '7')\n",
      "('[', '7', ']')\n",
      "('7', ']', '—to')\n",
      "(']', '—to', 'find')\n",
      "('—to', 'find', 'and')\n",
      "('find', 'and', 'report')\n",
      "('and', 'report', 'vulnerabilities')\n",
      "('report', 'vulnerabilities', '.')\n",
      "('vulnerabilities', '.', '[')\n",
      "('.', '[', '3')\n",
      "('[', '3', ']')\n",
      "('3', ']', 'If')\n",
      "(']', 'If', 'the')\n",
      "('If', 'the', 'developers')\n",
      "('the', 'developers', 'discover')\n",
      "('developers', 'discover', 'and')\n",
      "('discover', 'and', 'patch')\n",
      "('and', 'patch', 'bugs')\n",
      "('patch', 'bugs', 'before')\n",
      "('bugs', 'before', 'the')\n",
      "('before', 'the', 'general')\n",
      "('the', 'general', 'public')\n",
      "('general', 'public', 'is')\n",
      "('public', 'is', 'aware')\n",
      "('is', 'aware', 'of')\n",
      "('aware', 'of', 'them')\n",
      "('of', 'them', ',')\n",
      "('them', ',', 'cyberattacks')\n",
      "(',', 'cyberattacks', 'that')\n",
      "('cyberattacks', 'that', 'might')\n",
      "('that', 'might', 'have')\n",
      "('might', 'have', 'exploited')\n",
      "('have', 'exploited', 'are')\n",
      "('exploited', 'are', 'no')\n",
      "('are', 'no', 'longer')\n",
      "('no', 'longer', 'possible')\n",
      "('longer', 'possible', '.')\n"
     ]
    }
   ],
   "source": [
    "for i in n:\n",
    "    print(i)"
   ]
  },
  {
   "cell_type": "raw",
   "id": "f048dbda-2a8e-40ed-9a74-1c02d5a61ccb",
   "metadata": {},
   "source": [
    ">> Word Sense Disambiguation"
   ]
  },
  {
   "cell_type": "code",
   "execution_count": 2,
   "id": "8eb0f314-59a8-4e05-bb8a-6000cb7f5115",
   "metadata": {},
   "outputs": [],
   "source": [
    "from nltk.wsd import lesk \n",
    "from nltk.tokenize import word_tokenize"
   ]
  },
  {
   "cell_type": "code",
   "execution_count": 6,
   "id": "32e059ae-5366-47a5-bb7f-97efa1b25254",
   "metadata": {},
   "outputs": [],
   "source": [
    "ls = lesk(word_tokenize(corpus), \"bug\")"
   ]
  },
  {
   "cell_type": "code",
   "execution_count": 7,
   "id": "9f65cca2-fa57-4fd9-ab16-7e96c5ad8539",
   "metadata": {},
   "outputs": [
    {
     "data": {
      "text/plain": [
       "Synset('microbe.n.01')"
      ]
     },
     "execution_count": 7,
     "metadata": {},
     "output_type": "execute_result"
    }
   ],
   "source": [
    "ls"
   ]
  },
  {
   "cell_type": "code",
   "execution_count": 13,
   "id": "33b5379d-797d-4720-a35d-27ca7d1b684f",
   "metadata": {},
   "outputs": [
    {
     "data": {
      "text/plain": [
       "'a minute life form (especially a disease-causing bacterium); the term is not in technical use'"
      ]
     },
     "execution_count": 13,
     "metadata": {},
     "output_type": "execute_result"
    }
   ],
   "source": [
    "ls.definition()"
   ]
  }
 ],
 "metadata": {
  "kernelspec": {
   "display_name": "Python 3 (ipykernel)",
   "language": "python",
   "name": "python3"
  },
  "language_info": {
   "codemirror_mode": {
    "name": "ipython",
    "version": 3
   },
   "file_extension": ".py",
   "mimetype": "text/x-python",
   "name": "python",
   "nbconvert_exporter": "python",
   "pygments_lexer": "ipython3",
   "version": "3.11.2"
  }
 },
 "nbformat": 4,
 "nbformat_minor": 5
}
